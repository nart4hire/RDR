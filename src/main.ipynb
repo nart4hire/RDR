{
 "cells": [
  {
   "cell_type": "markdown",
   "metadata": {},
   "source": [
    "# Import Relevant Libraries"
   ]
  },
  {
   "cell_type": "code",
   "execution_count": 1,
   "metadata": {},
   "outputs": [],
   "source": [
    "from __future__ import annotations\n",
    "import pandas as pd\n",
    "import numpy as np\n",
    "from random import choice, seed as set_seed"
   ]
  },
  {
   "cell_type": "markdown",
   "metadata": {},
   "source": [
    "# Implementasi"
   ]
  },
  {
   "cell_type": "code",
   "execution_count": 2,
   "metadata": {},
   "outputs": [],
   "source": [
    "class RDR:\n",
    "    def __init__(self, general_case: str | None = None) -> None:\n",
    "        self.general_case: str | None = general_case\n",
    "        self._root: RDR.RDRNode = self.RDRNode(None, None)\n",
    "\n",
    "    def fit(self, dataset: pd.DataFrame, labels: pd.Series, ignore_general: bool = False, seed: int | None = None) -> None:\n",
    "        # Set seed for regularity in testing\n",
    "        if seed is not None:\n",
    "            set_seed(seed)\n",
    "\n",
    "        if self.general_case is None:\n",
    "            # Asign a general case based on labels\n",
    "            values, counts = np.unique(labels, return_counts=True)\n",
    "            mode_label = values[np.argmax(counts)]\n",
    "            self.general_case = mode_label if type(\n",
    "                mode_label) is str else str(mode_label)\n",
    "            self._root.set_general_case(self.general_case)\n",
    "\n",
    "        # build the mask to isolate cornerstone cases\n",
    "        if ignore_general:\n",
    "            mask = labels.values.astype(str) != self.general_case\n",
    "            dataset_cs: pd.DataFrame = dataset[mask].astype(bool)\n",
    "            labels_cs: pd.Series = labels[mask]\n",
    "        else:\n",
    "            dataset_cs = dataset.astype(bool)\n",
    "            labels_cs = labels\n",
    "\n",
    "        # build the knowledge tree\n",
    "        for data, label in zip(dataset_cs.values, labels_cs.values):\n",
    "            features = [dataset_cs.columns[i] for i in np.where(data)[0]]\n",
    "            self._root.ripple_down(features, label)\n",
    "\n",
    "    def predict(self, dataset: pd.DataFrame) -> pd.Series:\n",
    "        predictions = []\n",
    "        # Iterate over each row in the dataset\n",
    "        for data in dataset.astype(bool).values:\n",
    "            # predict the conclusion of the row\n",
    "            features = [dataset.columns[i] for i in np.where(data)[0]]\n",
    "            conclusion = self._root.predict(features)\n",
    "            # append the conclusion to the predictions\n",
    "            predictions.append(\n",
    "                conclusion if conclusion is not None else self.general_case)\n",
    "        return pd.Series(data=predictions)\n",
    "\n",
    "    def add_new_cornerstone(self, data, new_conclusion, new_prerequisites=None) -> None:\n",
    "        # Add the new cornerstone to the RDR tree\n",
    "        self._root.ripple_down(data,\n",
    "                               new_conclusion, new_prerequisites)\n",
    "\n",
    "    def __str__(self) -> str:\n",
    "        return f\"General Case: {self.general_case}\\n\" + self._root.visualize()\n",
    "\n",
    "    class RDRNode:\n",
    "        def __init__(self, prerequisites: list | None, conclusion: str | None) -> None:\n",
    "            \"\"\"\n",
    "            prerequisites: list of features that must be met before this rule can be applied\n",
    "            conclusion: the conclusion of this rule\n",
    "            left: the left child of this rule, applies when the prerequisites are not met\n",
    "            right: the right child of this rule, applies when the prerequisites are met\n",
    "            \"\"\"\n",
    "            self._prerequisites: list | None = prerequisites\n",
    "            self._conclusion: str | None = conclusion if type(\n",
    "                conclusion) is str or conclusion is None else str(conclusion)\n",
    "            self._left: RDR.RDRNode | None = None\n",
    "            self._right: RDR.RDRNode | None = None\n",
    "\n",
    "        def set_general_case(self, general_case: str) -> None:\n",
    "            self._general_case = general_case\n",
    "\n",
    "        def _add_node(self, features, node) -> None:\n",
    "            # If the node's prerequisites are met\n",
    "            if self.is_fulfilled(features):\n",
    "                if self._right is None:\n",
    "                    self._right = node\n",
    "                else:\n",
    "                    self._right._add_node(features, node)\n",
    "            else:\n",
    "                if self._left is None:\n",
    "                    self._left = node\n",
    "                else:\n",
    "                    self._left._add_node(features, node)\n",
    "\n",
    "        def is_fulfilled(self, features) -> bool:\n",
    "            # return true if all the prerequisites are met\n",
    "            if self._prerequisites is not None:\n",
    "                for prerequisite in self._prerequisites:\n",
    "                    if prerequisite not in features:\n",
    "                        return False\n",
    "            return True\n",
    "\n",
    "        def _traverse_to_conclusion_leaf(self, features) -> RDR.RDRNode | None:\n",
    "            # Traverse to the conclusion leaf\n",
    "            if self.is_fulfilled(features):\n",
    "                conclusion_node = self\n",
    "                if self._right is not None:\n",
    "                    right_conclusion = self._right._traverse_to_conclusion_leaf(features)\n",
    "                    if right_conclusion is not None:\n",
    "                        conclusion_node = right_conclusion\n",
    "                return conclusion_node\n",
    "            elif self._left is not None:\n",
    "                return self._left._traverse_to_conclusion_leaf(features)\n",
    "            return None\n",
    "\n",
    "        def _contradict(self, features, new_conclusion, new_prerequisites=None) -> None:\n",
    "            # If there are no new prerequisites, generate some\n",
    "            if new_prerequisites is None:\n",
    "                # If there are prerequisites, use them as a base\n",
    "                if self._prerequisites is not None:\n",
    "                    new_prerequisites = [p for p in self._prerequisites]\n",
    "                    possible_features = [f for f in features if f not in new_prerequisites]\n",
    "                    if len(possible_features) != 0:\n",
    "                        # append the random feature that is not already in the prerequisites\n",
    "                        new_prerequisites.append(choice(possible_features))\n",
    "                    else:\n",
    "                        # Didn't find a new feature to append, so remove the feature instead\n",
    "                        duplicate_features = [f for f in features if f in new_prerequisites]\n",
    "                        # remove the random feature that is already in the prerequisites\n",
    "                        new_prerequisites.remove(choice(duplicate_features))\n",
    "                else:\n",
    "                    # Append Random Feature\n",
    "                    new_prerequisites = []\n",
    "                    new_prerequisites.append(choice(features))\n",
    "\n",
    "            # Add the new cornerstone to the RDR tree\n",
    "            self._add_node(features, RDR.RDRNode(new_prerequisites, new_conclusion))\n",
    "\n",
    "        def _manifest(self, features, new_conclusion, new_prerequisites=None) -> None:\n",
    "            # If there are no new prerequisites, generate some\n",
    "            if new_prerequisites is None:\n",
    "                # Since this is a manifestation, the new prerequisites should be the features\n",
    "                # This is because we triggered the else branch, thus prerequisites are not met\n",
    "                # Can choose any feature to be the new prerequisite as long as prerequisites are not met\n",
    "                # Easier Just to use a random feature from the features list that is not already in the prerequisites\n",
    "                new_prerequisites = []\n",
    "                possible_features = [f for f in features if f not in new_prerequisites]\n",
    "                if len(possible_features) != 0:\n",
    "                    # append the random feature that is not already in the prerequisites\n",
    "                    new_prerequisites.append(choice(possible_features))\n",
    "                else:\n",
    "                    # all features are already in the prerequisites, but prerequisites were not met, features lacking\n",
    "                    # in this case, just use all the features as the prerequisites\n",
    "                    new_prerequisites = [f for f in features]\n",
    "\n",
    "            self._add_node(features, RDR.RDRNode(new_prerequisites, new_conclusion))\n",
    "\n",
    "\n",
    "        def ripple_down(self, features, label, new_prerequisites = None) -> str | None:\n",
    "            # Get the conclusion of this case\n",
    "            conclusion = self.predict(features)\n",
    "            # If it contradicts the label, add right cornerstone\n",
    "            if conclusion is not None and conclusion != label:\n",
    "                # Create a new cornerstone with the label as the conclusion\n",
    "                conclusion_leaf = self._traverse_to_conclusion_leaf(features)\n",
    "                if conclusion_leaf is not None:\n",
    "                    conclusion_leaf._contradict(\n",
    "                        features, label, new_prerequisites)\n",
    "                else:\n",
    "                    # For the general case, i.e. root rule\n",
    "                    self._contradict(\n",
    "                        features, label, new_prerequisites)\n",
    "            # The rule did not activate the label, so add Left Cornerstone\n",
    "            elif conclusion is None and label != self._general_case:\n",
    "                # Create a new cornerstone with the label as the conclusion\n",
    "                first_empty_left = self._traverse_to_conclusion_leaf(features)\n",
    "                if first_empty_left is not None:\n",
    "                    first_empty_left._manifest(\n",
    "                        features, label, new_prerequisites)\n",
    "                else:\n",
    "                    # For the general case, i.e. root rule, this is the first rule, so contradict instead\n",
    "                    self._contradict(\n",
    "                        features, label, new_prerequisites)\n",
    "                \n",
    "\n",
    "        def predict(self, features) -> str | None:\n",
    "            # If prerequisite is met\n",
    "            if self.is_fulfilled(features):\n",
    "                # Set the last conclusion to this rule's conclusion\n",
    "                last_conclusion = self._conclusion\n",
    "                # If the rule has a right child\n",
    "                if self._right is not None:\n",
    "                    # calculate the right child's prediction, this should be the conclusion of the right child\n",
    "                    right_conclusion = self._right.predict(features)\n",
    "                    # if the right child has a conclusion\n",
    "                    if right_conclusion is not None:\n",
    "                        # set the last conclusion to the right child's conclusion\n",
    "                        last_conclusion = right_conclusion\n",
    "                return last_conclusion\n",
    "            # If prerequisite is not met, but has a left child\n",
    "            elif self._left is not None:\n",
    "                # calculate the left child's prediction, this should be the conclusion of the left child\n",
    "                return self._left.predict(features)\n",
    "            # Default of no conclusion\n",
    "            return None\n",
    "        \n",
    "        def visualize(self, depth: int = 0, side = None) -> str:\n",
    "            # Create the string to return\n",
    "            string = ' ' * depth + f\"{side}\" if side is not None else ''\n",
    "            # Add the current node's visualization to the string\n",
    "            string += self.__str__()\n",
    "            # If there is a left child\n",
    "            if self._left is not None:\n",
    "                # Add the left child's visualization to the string\n",
    "                string += self._left.visualize(depth + 1, \"L: \")\n",
    "            # If there is a right child\n",
    "            if self._right is not None:\n",
    "                # Add the right child's visualization to the string\n",
    "                string += self._right.visualize(depth + 1, \"R: \")\n",
    "            return string\n",
    "\n",
    "        def __str__(self) -> str:\n",
    "            # Prerequisites => Conclusion\n",
    "            return f\"{' & '.join(self._prerequisites) if self._prerequisites is not None else 'Any Feature'} => {self._conclusion if self._conclusion is not None else 'General Case'}\\n\""
   ]
  },
  {
   "cell_type": "markdown",
   "metadata": {},
   "source": [
    "RDR Diimplementasikan dalam kelas Python meniru cara kerja Model pada pustaka Scikit-Learn, karena menurut saya model mereka mudah digunakan dan saya ingin mengemulasi hal tersebut dalam kode saya."
   ]
  },
  {
   "cell_type": "markdown",
   "metadata": {},
   "source": [
    "Ada tiga fungsi utama yang diimplementasikan, yaitu:"
   ]
  },
  {
   "cell_type": "markdown",
   "metadata": {},
   "source": [
    "1. Fit\n",
    "\n",
    "Menggunakan Dataset dan label untuk melatih model RDR\n",
    "Dalam implementasi, hal ini dilakukan dengan mengambil\n",
    "pasangan fitur dan label yang sudah diolah menjadi list\n",
    "dan dimasukkan ke dalam pohon RDR menggunakan aturan RDR\n",
    "yang ada.\n",
    "Beberapa term yang digunakan:\n",
    "- contradict, hal ini terjadi ketika terdapat konklusi,\n",
    "  namun pakar tidak setuju sehingga diubah, bisa dengan\n",
    "  memasukkan fitur sendiri (tidak dalam fit) atau dipilih\n",
    "  secara acak dengan strategi\n",
    "- conclusion leaf, hal ini adalah daun pohon RDR yang\n",
    "  mencapai konklusi yang dikontradiksi oleh pakar atau\n",
    "  label data\n",
    "- manifest, hal ini terjadi ketika mendapatkan konklusi\n",
    "  yang tidak sesuai dan di daun selanjutnya, fitur tidak\n",
    "  memenuhi prasyarat konklusi. Maka rule dapat dikatakan\n",
    "  gagal manifestasi sehingga dinamakan manifestasi"
   ]
  },
  {
   "cell_type": "markdown",
   "metadata": {},
   "source": [
    "2. Predict\n",
    "\n",
    "Predict digunakan untuk memprediksi kategori dataset yang dimasukkan ke dalam model, hasil akan dikeluarkan sebagai suatu daftar hasil"
   ]
  },
  {
   "cell_type": "markdown",
   "metadata": {},
   "source": [
    "3. Add_New_Cornerstone\n",
    "\n",
    "Fungsi ini khusus untuk masukan pakar sehingga bisa mengatur konklusi dan prekondisi apa saja yang ingin ditentukan oleh rule tersebut, kegunaan dicontohkan di bagian bawah\n"
   ]
  },
  {
   "cell_type": "markdown",
   "metadata": {},
   "source": [
    "# Import Dataset"
   ]
  },
  {
   "cell_type": "code",
   "execution_count": 3,
   "metadata": {},
   "outputs": [
    {
     "data": {
      "text/html": [
       "<div>\n",
       "<style scoped>\n",
       "    .dataframe tbody tr th:only-of-type {\n",
       "        vertical-align: middle;\n",
       "    }\n",
       "\n",
       "    .dataframe tbody tr th {\n",
       "        vertical-align: top;\n",
       "    }\n",
       "\n",
       "    .dataframe thead th {\n",
       "        text-align: right;\n",
       "    }\n",
       "</style>\n",
       "<table border=\"1\" class=\"dataframe\">\n",
       "  <thead>\n",
       "    <tr style=\"text-align: right;\">\n",
       "      <th></th>\n",
       "      <th>Diabetes_012</th>\n",
       "      <th>HighBP</th>\n",
       "      <th>HighChol</th>\n",
       "      <th>CholCheck</th>\n",
       "      <th>Smoker</th>\n",
       "      <th>Stroke</th>\n",
       "      <th>HeartDiseaseorAttack</th>\n",
       "      <th>PhysActivity</th>\n",
       "      <th>Fruits</th>\n",
       "      <th>Veggies</th>\n",
       "      <th>HvyAlcoholConsump</th>\n",
       "      <th>AnyHealthcare</th>\n",
       "      <th>NoDocbcCost</th>\n",
       "      <th>DiffWalk</th>\n",
       "      <th>Sex</th>\n",
       "    </tr>\n",
       "  </thead>\n",
       "  <tbody>\n",
       "    <tr>\n",
       "      <th>0</th>\n",
       "      <td>0.0</td>\n",
       "      <td>1.0</td>\n",
       "      <td>1.0</td>\n",
       "      <td>1.0</td>\n",
       "      <td>1.0</td>\n",
       "      <td>0.0</td>\n",
       "      <td>0.0</td>\n",
       "      <td>0.0</td>\n",
       "      <td>0.0</td>\n",
       "      <td>1.0</td>\n",
       "      <td>0.0</td>\n",
       "      <td>1.0</td>\n",
       "      <td>0.0</td>\n",
       "      <td>1.0</td>\n",
       "      <td>0.0</td>\n",
       "    </tr>\n",
       "    <tr>\n",
       "      <th>1</th>\n",
       "      <td>0.0</td>\n",
       "      <td>0.0</td>\n",
       "      <td>0.0</td>\n",
       "      <td>0.0</td>\n",
       "      <td>1.0</td>\n",
       "      <td>0.0</td>\n",
       "      <td>0.0</td>\n",
       "      <td>1.0</td>\n",
       "      <td>0.0</td>\n",
       "      <td>0.0</td>\n",
       "      <td>0.0</td>\n",
       "      <td>0.0</td>\n",
       "      <td>1.0</td>\n",
       "      <td>0.0</td>\n",
       "      <td>0.0</td>\n",
       "    </tr>\n",
       "    <tr>\n",
       "      <th>2</th>\n",
       "      <td>0.0</td>\n",
       "      <td>1.0</td>\n",
       "      <td>1.0</td>\n",
       "      <td>1.0</td>\n",
       "      <td>0.0</td>\n",
       "      <td>0.0</td>\n",
       "      <td>0.0</td>\n",
       "      <td>0.0</td>\n",
       "      <td>1.0</td>\n",
       "      <td>0.0</td>\n",
       "      <td>0.0</td>\n",
       "      <td>1.0</td>\n",
       "      <td>1.0</td>\n",
       "      <td>1.0</td>\n",
       "      <td>0.0</td>\n",
       "    </tr>\n",
       "    <tr>\n",
       "      <th>3</th>\n",
       "      <td>0.0</td>\n",
       "      <td>1.0</td>\n",
       "      <td>0.0</td>\n",
       "      <td>1.0</td>\n",
       "      <td>0.0</td>\n",
       "      <td>0.0</td>\n",
       "      <td>0.0</td>\n",
       "      <td>1.0</td>\n",
       "      <td>1.0</td>\n",
       "      <td>1.0</td>\n",
       "      <td>0.0</td>\n",
       "      <td>1.0</td>\n",
       "      <td>0.0</td>\n",
       "      <td>0.0</td>\n",
       "      <td>0.0</td>\n",
       "    </tr>\n",
       "    <tr>\n",
       "      <th>4</th>\n",
       "      <td>0.0</td>\n",
       "      <td>1.0</td>\n",
       "      <td>1.0</td>\n",
       "      <td>1.0</td>\n",
       "      <td>0.0</td>\n",
       "      <td>0.0</td>\n",
       "      <td>0.0</td>\n",
       "      <td>1.0</td>\n",
       "      <td>1.0</td>\n",
       "      <td>1.0</td>\n",
       "      <td>0.0</td>\n",
       "      <td>1.0</td>\n",
       "      <td>0.0</td>\n",
       "      <td>0.0</td>\n",
       "      <td>0.0</td>\n",
       "    </tr>\n",
       "  </tbody>\n",
       "</table>\n",
       "</div>"
      ],
      "text/plain": [
       "   Diabetes_012  HighBP  HighChol  CholCheck  Smoker  Stroke  \\\n",
       "0           0.0     1.0       1.0        1.0     1.0     0.0   \n",
       "1           0.0     0.0       0.0        0.0     1.0     0.0   \n",
       "2           0.0     1.0       1.0        1.0     0.0     0.0   \n",
       "3           0.0     1.0       0.0        1.0     0.0     0.0   \n",
       "4           0.0     1.0       1.0        1.0     0.0     0.0   \n",
       "\n",
       "   HeartDiseaseorAttack  PhysActivity  Fruits  Veggies  HvyAlcoholConsump  \\\n",
       "0                   0.0           0.0     0.0      1.0                0.0   \n",
       "1                   0.0           1.0     0.0      0.0                0.0   \n",
       "2                   0.0           0.0     1.0      0.0                0.0   \n",
       "3                   0.0           1.0     1.0      1.0                0.0   \n",
       "4                   0.0           1.0     1.0      1.0                0.0   \n",
       "\n",
       "   AnyHealthcare  NoDocbcCost  DiffWalk  Sex  \n",
       "0            1.0          0.0       1.0  0.0  \n",
       "1            0.0          1.0       0.0  0.0  \n",
       "2            1.0          1.0       1.0  0.0  \n",
       "3            1.0          0.0       0.0  0.0  \n",
       "4            1.0          0.0       0.0  0.0  "
      ]
     },
     "execution_count": 3,
     "metadata": {},
     "output_type": "execute_result"
    }
   ],
   "source": [
    "df = pd.read_csv('../test/diabetes_012_health_indicators_BRFSS2015.csv').drop(columns=['BMI', 'MentHlth', 'PhysHlth', 'GenHlth', 'Age', 'Education', 'Income'], axis=1)\n",
    "df.head()"
   ]
  },
  {
   "cell_type": "markdown",
   "metadata": {},
   "source": [
    "Dataset ini dipilih karena ada kategori yang jelas antara Tidak Diabetes, PraDiabetes, dan Diabetes dan juga fitur yang digunakan banyak yang biner antara True atau False (0, 1). Kolom yang memiliki data non Biner didrop saja terlebih dahulu."
   ]
  },
  {
   "cell_type": "code",
   "execution_count": 4,
   "metadata": {},
   "outputs": [
    {
     "data": {
      "text/plain": [
       "0    Normal\n",
       "1    Normal\n",
       "2    Normal\n",
       "3    Normal\n",
       "4    Normal\n",
       "Name: Diabetes_012, dtype: object"
      ]
     },
     "execution_count": 4,
     "metadata": {},
     "output_type": "execute_result"
    }
   ],
   "source": [
    "labels = df['Diabetes_012'].replace({0.0: 'Normal', 1.0: 'Pre-diabetes', 2.0: 'Diabetes'})\n",
    "labels.head()"
   ]
  },
  {
   "cell_type": "code",
   "execution_count": 5,
   "metadata": {},
   "outputs": [
    {
     "data": {
      "text/html": [
       "<div>\n",
       "<style scoped>\n",
       "    .dataframe tbody tr th:only-of-type {\n",
       "        vertical-align: middle;\n",
       "    }\n",
       "\n",
       "    .dataframe tbody tr th {\n",
       "        vertical-align: top;\n",
       "    }\n",
       "\n",
       "    .dataframe thead th {\n",
       "        text-align: right;\n",
       "    }\n",
       "</style>\n",
       "<table border=\"1\" class=\"dataframe\">\n",
       "  <thead>\n",
       "    <tr style=\"text-align: right;\">\n",
       "      <th></th>\n",
       "      <th>HighBP</th>\n",
       "      <th>HighChol</th>\n",
       "      <th>CholCheck</th>\n",
       "      <th>Smoker</th>\n",
       "      <th>Stroke</th>\n",
       "      <th>HeartDiseaseorAttack</th>\n",
       "      <th>PhysActivity</th>\n",
       "      <th>Fruits</th>\n",
       "      <th>Veggies</th>\n",
       "      <th>HvyAlcoholConsump</th>\n",
       "      <th>AnyHealthcare</th>\n",
       "      <th>NoDocbcCost</th>\n",
       "      <th>DiffWalk</th>\n",
       "      <th>Sex</th>\n",
       "    </tr>\n",
       "  </thead>\n",
       "  <tbody>\n",
       "    <tr>\n",
       "      <th>0</th>\n",
       "      <td>1.0</td>\n",
       "      <td>1.0</td>\n",
       "      <td>1.0</td>\n",
       "      <td>1.0</td>\n",
       "      <td>0.0</td>\n",
       "      <td>0.0</td>\n",
       "      <td>0.0</td>\n",
       "      <td>0.0</td>\n",
       "      <td>1.0</td>\n",
       "      <td>0.0</td>\n",
       "      <td>1.0</td>\n",
       "      <td>0.0</td>\n",
       "      <td>1.0</td>\n",
       "      <td>0.0</td>\n",
       "    </tr>\n",
       "    <tr>\n",
       "      <th>1</th>\n",
       "      <td>0.0</td>\n",
       "      <td>0.0</td>\n",
       "      <td>0.0</td>\n",
       "      <td>1.0</td>\n",
       "      <td>0.0</td>\n",
       "      <td>0.0</td>\n",
       "      <td>1.0</td>\n",
       "      <td>0.0</td>\n",
       "      <td>0.0</td>\n",
       "      <td>0.0</td>\n",
       "      <td>0.0</td>\n",
       "      <td>1.0</td>\n",
       "      <td>0.0</td>\n",
       "      <td>0.0</td>\n",
       "    </tr>\n",
       "    <tr>\n",
       "      <th>2</th>\n",
       "      <td>1.0</td>\n",
       "      <td>1.0</td>\n",
       "      <td>1.0</td>\n",
       "      <td>0.0</td>\n",
       "      <td>0.0</td>\n",
       "      <td>0.0</td>\n",
       "      <td>0.0</td>\n",
       "      <td>1.0</td>\n",
       "      <td>0.0</td>\n",
       "      <td>0.0</td>\n",
       "      <td>1.0</td>\n",
       "      <td>1.0</td>\n",
       "      <td>1.0</td>\n",
       "      <td>0.0</td>\n",
       "    </tr>\n",
       "    <tr>\n",
       "      <th>3</th>\n",
       "      <td>1.0</td>\n",
       "      <td>0.0</td>\n",
       "      <td>1.0</td>\n",
       "      <td>0.0</td>\n",
       "      <td>0.0</td>\n",
       "      <td>0.0</td>\n",
       "      <td>1.0</td>\n",
       "      <td>1.0</td>\n",
       "      <td>1.0</td>\n",
       "      <td>0.0</td>\n",
       "      <td>1.0</td>\n",
       "      <td>0.0</td>\n",
       "      <td>0.0</td>\n",
       "      <td>0.0</td>\n",
       "    </tr>\n",
       "    <tr>\n",
       "      <th>4</th>\n",
       "      <td>1.0</td>\n",
       "      <td>1.0</td>\n",
       "      <td>1.0</td>\n",
       "      <td>0.0</td>\n",
       "      <td>0.0</td>\n",
       "      <td>0.0</td>\n",
       "      <td>1.0</td>\n",
       "      <td>1.0</td>\n",
       "      <td>1.0</td>\n",
       "      <td>0.0</td>\n",
       "      <td>1.0</td>\n",
       "      <td>0.0</td>\n",
       "      <td>0.0</td>\n",
       "      <td>0.0</td>\n",
       "    </tr>\n",
       "  </tbody>\n",
       "</table>\n",
       "</div>"
      ],
      "text/plain": [
       "   HighBP  HighChol  CholCheck  Smoker  Stroke  HeartDiseaseorAttack  \\\n",
       "0     1.0       1.0        1.0     1.0     0.0                   0.0   \n",
       "1     0.0       0.0        0.0     1.0     0.0                   0.0   \n",
       "2     1.0       1.0        1.0     0.0     0.0                   0.0   \n",
       "3     1.0       0.0        1.0     0.0     0.0                   0.0   \n",
       "4     1.0       1.0        1.0     0.0     0.0                   0.0   \n",
       "\n",
       "   PhysActivity  Fruits  Veggies  HvyAlcoholConsump  AnyHealthcare  \\\n",
       "0           0.0     0.0      1.0                0.0            1.0   \n",
       "1           1.0     0.0      0.0                0.0            0.0   \n",
       "2           0.0     1.0      0.0                0.0            1.0   \n",
       "3           1.0     1.0      1.0                0.0            1.0   \n",
       "4           1.0     1.0      1.0                0.0            1.0   \n",
       "\n",
       "   NoDocbcCost  DiffWalk  Sex  \n",
       "0          0.0       1.0  0.0  \n",
       "1          1.0       0.0  0.0  \n",
       "2          1.0       1.0  0.0  \n",
       "3          0.0       0.0  0.0  \n",
       "4          0.0       0.0  0.0  "
      ]
     },
     "execution_count": 5,
     "metadata": {},
     "output_type": "execute_result"
    }
   ],
   "source": [
    "df = df.drop(columns=['Diabetes_012'], axis=1)\n",
    "df.head()"
   ]
  },
  {
   "cell_type": "markdown",
   "metadata": {},
   "source": [
    "Dipisahkan antara Dataset dan label"
   ]
  },
  {
   "cell_type": "code",
   "execution_count": 6,
   "metadata": {},
   "outputs": [],
   "source": [
    "train_X = df.head(80)\n",
    "train_y = labels.head(80)\n",
    "test_X = df.tail(20)\n",
    "test_y = labels.tail(20)"
   ]
  },
  {
   "cell_type": "markdown",
   "metadata": {},
   "source": [
    "Buatkan Train Test Split Secara Manual"
   ]
  },
  {
   "cell_type": "markdown",
   "metadata": {},
   "source": [
    "# Masukan pakar"
   ]
  },
  {
   "cell_type": "code",
   "execution_count": 7,
   "metadata": {},
   "outputs": [],
   "source": [
    "data = df.head(20)\n",
    "label = labels.head(20)"
   ]
  },
  {
   "cell_type": "markdown",
   "metadata": {},
   "source": [
    "Mencontohkan masukan pakar, data yang digunakan kecil agar bisa terlihat perubahan pada pohon"
   ]
  },
  {
   "cell_type": "code",
   "execution_count": 8,
   "metadata": {},
   "outputs": [
    {
     "name": "stdout",
     "output_type": "stream",
     "text": [
      "General Case: Normal\n",
      "Any Feature => General Case\n",
      " R: HighChol => Diabetes\n",
      "  L: CholCheck => Diabetes\n",
      "   R: CholCheck & Veggies => Normal\n",
      "    L: CholCheck & HighBP => Normal\n",
      "  R: HighChol & AnyHealthcare => Normal\n",
      "   R: HighChol & AnyHealthcare & CholCheck => Diabetes\n",
      "    R: HighChol & AnyHealthcare & CholCheck & Stroke => Normal\n",
      "     L: HighChol & AnyHealthcare & CholCheck & HighBP => Normal\n",
      "      L: HighChol & AnyHealthcare & CholCheck & HvyAlcoholConsump => Normal\n",
      "\n"
     ]
    }
   ],
   "source": [
    "rdr_test = RDR()\n",
    "rdr_test.fit(data, label, seed=42)\n",
    "print(rdr_test)"
   ]
  },
  {
   "cell_type": "markdown",
   "metadata": {},
   "source": [
    "Pada contoh ini mungkin pakar tidak setuju dengan diagnosis HighChol & AnyHealthcare & CholCheck & Stroke maka Normal karena menurutnya jika pasien makan buah, maka diabetes. Maka dibuat aturan berikut"
   ]
  },
  {
   "cell_type": "code",
   "execution_count": 9,
   "metadata": {},
   "outputs": [
    {
     "name": "stdout",
     "output_type": "stream",
     "text": [
      "General Case: Normal\n",
      "Any Feature => General Case\n",
      " R: HighChol => Diabetes\n",
      "  L: CholCheck => Diabetes\n",
      "   R: CholCheck & Veggies => Normal\n",
      "    L: CholCheck & HighBP => Normal\n",
      "  R: HighChol & AnyHealthcare => Normal\n",
      "   R: HighChol & AnyHealthcare & CholCheck => Diabetes\n",
      "    R: HighChol & AnyHealthcare & CholCheck & Stroke => Normal\n",
      "     L: HighChol & AnyHealthcare & CholCheck & HighBP => Normal\n",
      "      L: HighChol & AnyHealthcare & CholCheck & HvyAlcoholConsump => Normal\n",
      "     R: HighChol & AnyHealthcare & CholCheck & Stroke & Fruits => Diabetes\n",
      "\n"
     ]
    }
   ],
   "source": [
    "# Bisa oleh masukan mesin, tidak harus manual oleh pakar\n",
    "newd = pd.DataFrame([[0.0, 1.0, 1.0, 0.0, 1.0, 0.0, 0.0, 1.0, 0.0, 0.0, 1.0, 0.0, 0.0, 0.0]], columns=df.columns)\n",
    "newl = 'Diabetes'\n",
    "preq = ['HighChol', 'AnyHealthcare', 'CholCheck', 'Stroke', 'Fruits']\n",
    "\n",
    "rdr_test.add_new_cornerstone(newd, 'Diabetes', preq)\n",
    "print(rdr_test)"
   ]
  },
  {
   "cell_type": "markdown",
   "metadata": {},
   "source": [
    "Bisa dilihat di sini bahwa terdapat exception baru pada peraturan HighChol & AnyHealthcare & CholCheck & Stroke yaitu jika hal tersebut terjadi namun pasien juga makan buah, maka pasien sebenarnya diabetes"
   ]
  },
  {
   "cell_type": "markdown",
   "metadata": {},
   "source": [
    "# Model"
   ]
  },
  {
   "cell_type": "code",
   "execution_count": 10,
   "metadata": {},
   "outputs": [
    {
     "name": "stdout",
     "output_type": "stream",
     "text": [
      "General Case: Normal\n",
      "Any Feature => General Case\n",
      " R: HighChol => Diabetes\n",
      "  L: CholCheck => Diabetes\n",
      "   R: CholCheck & Veggies => Normal\n",
      "    L: CholCheck & HighBP => Normal\n",
      "     L: CholCheck & AnyHealthcare => Normal\n",
      "     R: CholCheck & HighBP & Fruits => Diabetes\n",
      "      R: CholCheck & HighBP & Fruits & AnyHealthcare => Normal\n",
      "    R: CholCheck & Veggies & AnyHealthcare => Diabetes\n",
      "     R: CholCheck & Veggies & AnyHealthcare & PhysActivity => Normal\n",
      "      L: CholCheck & Veggies & AnyHealthcare & DiffWalk => Normal\n",
      "      R: CholCheck & Veggies & AnyHealthcare & PhysActivity & Fruits => Diabetes\n",
      "       L: CholCheck & Veggies & AnyHealthcare & PhysActivity & Sex => Diabetes\n",
      "        R: CholCheck & Veggies & AnyHealthcare & PhysActivity & Sex & HighBP => Normal\n",
      "       R: CholCheck & Veggies & AnyHealthcare & PhysActivity & Fruits & NoDocbcCost => Normal\n",
      "  R: HighChol & AnyHealthcare => Normal\n",
      "   L: HighChol & Veggies => Normal\n",
      "   R: HighChol & AnyHealthcare & CholCheck => Diabetes\n",
      "    R: HighChol & AnyHealthcare & CholCheck & Stroke => Normal\n",
      "     L: HighChol & AnyHealthcare & CholCheck & HighBP => Normal\n",
      "      L: HighChol & AnyHealthcare & CholCheck & HvyAlcoholConsump => Normal\n",
      "       L: HighChol & AnyHealthcare & CholCheck & PhysActivity => Normal\n",
      "        L: HighChol & AnyHealthcare & CholCheck & Smoker => Normal\n",
      "      R: HighChol & AnyHealthcare & CholCheck & HighBP & Smoker => Diabetes\n",
      "       L: HighChol & AnyHealthcare & CholCheck & HighBP & Veggies => Pre-diabetes\n",
      "        L: HighChol & AnyHealthcare & CholCheck & HighBP & PhysActivity => Diabetes\n",
      "        R: HighChol & AnyHealthcare & CholCheck & HighBP & Veggies & PhysActivity => Normal\n",
      "       R: HighChol & AnyHealthcare & CholCheck & HighBP & Smoker & Veggies => Normal\n",
      "        L: HighChol & AnyHealthcare & CholCheck & HighBP & Smoker & HeartDiseaseorAttack => Normal\n",
      "        R: HighChol & AnyHealthcare & CholCheck & HighBP & Smoker & Veggies & DiffWalk => Diabetes\n",
      "     R: HighChol & AnyHealthcare & CholCheck & Stroke & HighBP => Diabetes\n",
      "      R: HighChol & AnyHealthcare & CholCheck & Stroke & HighBP & Smoker => Normal\n",
      "       R: HighChol & AnyHealthcare & CholCheck & Stroke & HighBP & Smoker & NoDocbcCost => Diabetes\n",
      "\n"
     ]
    }
   ],
   "source": [
    "rdr = RDR()\n",
    "rdr.fit(train_X, train_y, seed=42)\n",
    "print(rdr)"
   ]
  },
  {
   "cell_type": "markdown",
   "metadata": {},
   "source": [
    "Referensi untuk pembentukan Pohon diambil dari: https://www.cse.unsw.edu.au/~claude/programs/iprolog/Doc/html/Extenions/rdr.html"
   ]
  },
  {
   "cell_type": "markdown",
   "metadata": {},
   "source": [
    "Secara umum, jika terjadi kontradiksi, prerequisite akan ditambah atau dihilangkan satu. Jika label ke kiri, maka akan digunakan salah satu fitur atau semua"
   ]
  },
  {
   "cell_type": "markdown",
   "metadata": {},
   "source": [
    "# Testing"
   ]
  },
  {
   "cell_type": "code",
   "execution_count": 11,
   "metadata": {},
   "outputs": [
    {
     "name": "stdout",
     "output_type": "stream",
     "text": [
      "Accuracy: 0.35\n"
     ]
    }
   ],
   "source": [
    "pred = rdr.predict(test_X)\n",
    "\n",
    "positive = 0\n",
    "for p, y in zip(pred.values, test_y.values):\n",
    "    # Jika Prediksi Benar\n",
    "    if p == y:\n",
    "        positive += 1\n",
    "print(f\"Accuracy: {positive/len(pred.values)}\")"
   ]
  },
  {
   "cell_type": "markdown",
   "metadata": {},
   "source": [
    "Akurasi secara umum tidak baik karena model hanya menggunakan data secara supervised training, sedangkan tujuan awalnya untuk digunakan oleh pakar yang jarang salah. Akurasi menurun karena algoritma mengambil fitur secara acak sehingga jarang mendapatkan fakta sebenarnya"
   ]
  },
  {
   "cell_type": "markdown",
   "metadata": {},
   "source": [
    "# Model with larger dataset"
   ]
  },
  {
   "cell_type": "markdown",
   "metadata": {},
   "source": [
    "Menggunakan perbandingan dengan model yang dilatih dengan data lebih banyak"
   ]
  },
  {
   "cell_type": "code",
   "execution_count": 12,
   "metadata": {},
   "outputs": [],
   "source": [
    "train_XL = df.head(80000)\n",
    "train_yL = labels.head(80000)\n",
    "test_XL = df.tail(20000)\n",
    "test_yL = labels.tail(20000)"
   ]
  },
  {
   "cell_type": "markdown",
   "metadata": {},
   "source": [
    "Menggunakan jumlah data yang lebih besar kali 1000 dari percobaan pertama"
   ]
  },
  {
   "cell_type": "code",
   "execution_count": 13,
   "metadata": {},
   "outputs": [],
   "source": [
    "rdrL = RDR()\n",
    "rdrL.fit(train_XL, train_yL, seed=42)\n",
    "# print(rdr)"
   ]
  },
  {
   "cell_type": "markdown",
   "metadata": {},
   "source": [
    "Tidak divisualisasikan karena sangat besar"
   ]
  },
  {
   "cell_type": "code",
   "execution_count": 14,
   "metadata": {},
   "outputs": [
    {
     "name": "stdout",
     "output_type": "stream",
     "text": [
      "Accuracy: 0.71935\n"
     ]
    }
   ],
   "source": [
    "predL = rdrL.predict(test_XL)\n",
    "\n",
    "positiveL = 0\n",
    "for pL, yL in zip(predL.values, test_yL.values):\n",
    "    # Jika Prediksi Benar\n",
    "    if pL == yL:\n",
    "        positiveL += 1\n",
    "print(f\"Accuracy: {positiveL/len(predL.values)}\")"
   ]
  },
  {
   "cell_type": "markdown",
   "metadata": {},
   "source": [
    "Bisa dilihat bahwa akurasi semakin besar, namun tidak bisa mencapai akurasi yang tingggi (> 95%) hanya dengan supervised training saja."
   ]
  },
  {
   "cell_type": "markdown",
   "metadata": {},
   "source": [
    "Namun, jika dilihat dari segi kepraktisan dan lama training, maka mendapatkan akurasi 72% pada dataset sebesar ini cukup baik dibandingkan algoritma lainnya."
   ]
  },
  {
   "cell_type": "markdown",
   "metadata": {},
   "source": [
    "# "
   ]
  }
 ],
 "metadata": {
  "kernelspec": {
   "display_name": "Python 3",
   "language": "python",
   "name": "python3"
  },
  "language_info": {
   "codemirror_mode": {
    "name": "ipython",
    "version": 3
   },
   "file_extension": ".py",
   "mimetype": "text/x-python",
   "name": "python",
   "nbconvert_exporter": "python",
   "pygments_lexer": "ipython3",
   "version": "3.10.6"
  }
 },
 "nbformat": 4,
 "nbformat_minor": 2
}
